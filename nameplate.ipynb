{
 "cells": [
  {
   "cell_type": "markdown",
   "metadata": {},
   "source": [
    " # สร้างไฟล์ PowerPoint ป้ายชื่อจากข้อมูลใน Excel"
   ]
  },
  {
   "cell_type": "markdown",
   "metadata": {},
   "source": [
    " ---\n",
    " * author:  [Prasert Kanawattanachai](prasert.k@chula.ac.th)\n",
    " * YouTube: https://www.youtube.com/prasertcbs\n",
    " * github: https://github.com/prasertcbs/automate_pptx_nameplate\n",
    " * [Chulalongkorn Business School](https://www.cbs.chula.ac.th/en/)\n",
    " ---"
   ]
  },
  {
   "cell_type": "markdown",
   "metadata": {},
   "source": [
    " install required packages:\n",
    " * pip: `pip install -U pandas Pillow qrcode python-pptx openpyxl`"
   ]
  },
  {
   "cell_type": "code",
   "execution_count": 1,
   "metadata": {},
   "outputs": [],
   "source": [
    "import os\n",
    "import sys\n",
    "from io import BytesIO\n",
    "import pandas as pd\n",
    "from pptx import Presentation\n",
    "from pptx.util import Inches, Pt\n",
    "from pptx.dml.color import RGBColor\n",
    "from pptx.enum.text import MSO_ANCHOR, MSO_AUTO_SIZE\n",
    "import qrcode  # https://pypi.python.org/pypi/qrcode\n",
    "from PIL import Image  # https://pillow.readthedocs.io/en/stable/reference/Image.html"
   ]
  },
  {
   "cell_type": "code",
   "execution_count": 2,
   "metadata": {},
   "outputs": [
    {
     "data": {
      "text/html": [
       "<div>\n",
       "<style scoped>\n",
       "    .dataframe tbody tr th:only-of-type {\n",
       "        vertical-align: middle;\n",
       "    }\n",
       "\n",
       "    .dataframe tbody tr th {\n",
       "        vertical-align: top;\n",
       "    }\n",
       "\n",
       "    .dataframe thead th {\n",
       "        text-align: right;\n",
       "    }\n",
       "</style>\n",
       "<table border=\"1\" class=\"dataframe\">\n",
       "  <thead>\n",
       "    <tr style=\"text-align: right;\">\n",
       "      <th></th>\n",
       "      <th>selected</th>\n",
       "      <th>fname</th>\n",
       "      <th>lname</th>\n",
       "      <th>gender</th>\n",
       "      <th>email</th>\n",
       "      <th>tel</th>\n",
       "    </tr>\n",
       "  </thead>\n",
       "  <tbody>\n",
       "    <tr>\n",
       "      <th>0</th>\n",
       "      <td>True</td>\n",
       "      <td>Peter</td>\n",
       "      <td>Parker</td>\n",
       "      <td>ช</td>\n",
       "      <td>pf@myway.com</td>\n",
       "      <td>841011478</td>\n",
       "    </tr>\n",
       "    <tr>\n",
       "      <th>1</th>\n",
       "      <td>False</td>\n",
       "      <td>Gwen</td>\n",
       "      <td>Stacey</td>\n",
       "      <td>ญ</td>\n",
       "      <td>tn@mylife.com</td>\n",
       "      <td>883128641</td>\n",
       "    </tr>\n",
       "    <tr>\n",
       "      <th>2</th>\n",
       "      <td>True</td>\n",
       "      <td>อันดา</td>\n",
       "      <td>ฟ้าใส</td>\n",
       "      <td>ช</td>\n",
       "      <td>ad@mylove.com</td>\n",
       "      <td>819970169</td>\n",
       "    </tr>\n",
       "    <tr>\n",
       "      <th>3</th>\n",
       "      <td>True</td>\n",
       "      <td>ปลายฟ้า</td>\n",
       "      <td>ราชาวดี</td>\n",
       "      <td>ญ</td>\n",
       "      <td>pf@myheart.com</td>\n",
       "      <td>849107248</td>\n",
       "    </tr>\n",
       "    <tr>\n",
       "      <th>4</th>\n",
       "      <td>False</td>\n",
       "      <td>เพียงดาว</td>\n",
       "      <td>เคียงเดือน</td>\n",
       "      <td>ช</td>\n",
       "      <td>ff@alone.com</td>\n",
       "      <td>837111376</td>\n",
       "    </tr>\n",
       "    <tr>\n",
       "      <th>5</th>\n",
       "      <td>True</td>\n",
       "      <td>แผ่นดิน</td>\n",
       "      <td>มะลิลา</td>\n",
       "      <td>ช</td>\n",
       "      <td>pd@lonely.com</td>\n",
       "      <td>867414624</td>\n",
       "    </tr>\n",
       "  </tbody>\n",
       "</table>\n",
       "</div>"
      ],
      "text/plain": [
       "   selected     fname       lname gender           email        tel\n",
       "0      True     Peter      Parker      ช    pf@myway.com  841011478\n",
       "1     False      Gwen      Stacey      ญ   tn@mylife.com  883128641\n",
       "2      True     อันดา       ฟ้าใส      ช   ad@mylove.com  819970169\n",
       "3      True   ปลายฟ้า     ราชาวดี      ญ  pf@myheart.com  849107248\n",
       "4     False  เพียงดาว  เคียงเดือน      ช    ff@alone.com  837111376\n",
       "5      True   แผ่นดิน      มะลิลา      ช   pd@lonely.com  867414624"
      ]
     },
     "execution_count": 2,
     "metadata": {},
     "output_type": "execute_result"
    }
   ],
   "source": [
    "df=pd.read_excel('directory.xlsx', engine='openpyxl')\n",
    "df"
   ]
  },
  {
   "cell_type": "code",
   "execution_count": 3,
   "metadata": {},
   "outputs": [
    {
     "data": {
      "text/html": [
       "<div>\n",
       "<style scoped>\n",
       "    .dataframe tbody tr th:only-of-type {\n",
       "        vertical-align: middle;\n",
       "    }\n",
       "\n",
       "    .dataframe tbody tr th {\n",
       "        vertical-align: top;\n",
       "    }\n",
       "\n",
       "    .dataframe thead th {\n",
       "        text-align: right;\n",
       "    }\n",
       "</style>\n",
       "<table border=\"1\" class=\"dataframe\">\n",
       "  <thead>\n",
       "    <tr style=\"text-align: right;\">\n",
       "      <th></th>\n",
       "      <th>selected</th>\n",
       "      <th>fname</th>\n",
       "      <th>lname</th>\n",
       "      <th>gender</th>\n",
       "      <th>email</th>\n",
       "      <th>tel</th>\n",
       "    </tr>\n",
       "  </thead>\n",
       "  <tbody>\n",
       "    <tr>\n",
       "      <th>0</th>\n",
       "      <td>True</td>\n",
       "      <td>Peter</td>\n",
       "      <td>Parker</td>\n",
       "      <td>ช</td>\n",
       "      <td>pf@myway.com</td>\n",
       "      <td>841011478</td>\n",
       "    </tr>\n",
       "    <tr>\n",
       "      <th>2</th>\n",
       "      <td>True</td>\n",
       "      <td>อันดา</td>\n",
       "      <td>ฟ้าใส</td>\n",
       "      <td>ช</td>\n",
       "      <td>ad@mylove.com</td>\n",
       "      <td>819970169</td>\n",
       "    </tr>\n",
       "    <tr>\n",
       "      <th>3</th>\n",
       "      <td>True</td>\n",
       "      <td>ปลายฟ้า</td>\n",
       "      <td>ราชาวดี</td>\n",
       "      <td>ญ</td>\n",
       "      <td>pf@myheart.com</td>\n",
       "      <td>849107248</td>\n",
       "    </tr>\n",
       "    <tr>\n",
       "      <th>5</th>\n",
       "      <td>True</td>\n",
       "      <td>แผ่นดิน</td>\n",
       "      <td>มะลิลา</td>\n",
       "      <td>ช</td>\n",
       "      <td>pd@lonely.com</td>\n",
       "      <td>867414624</td>\n",
       "    </tr>\n",
       "  </tbody>\n",
       "</table>\n",
       "</div>"
      ],
      "text/plain": [
       "   selected    fname    lname gender           email        tel\n",
       "0      True    Peter   Parker      ช    pf@myway.com  841011478\n",
       "2      True    อันดา    ฟ้าใส      ช   ad@mylove.com  819970169\n",
       "3      True  ปลายฟ้า  ราชาวดี      ญ  pf@myheart.com  849107248\n",
       "5      True  แผ่นดิน   มะลิลา      ช   pd@lonely.com  867414624"
      ]
     },
     "execution_count": 3,
     "metadata": {},
     "output_type": "execute_result"
    }
   ],
   "source": [
    "df[df['selected']]"
   ]
  },
  {
   "cell_type": "code",
   "execution_count": 4,
   "metadata": {},
   "outputs": [],
   "source": [
    "def mecard(name, tel, email):\n",
    "    \"\"\"\n",
    "    >>> mecard('Peter Parker', '088-123-4455', 'peter@marvel.com')\n",
    "    'MECARD:N:Peter Parker;TEL:088-123-4455;EMAIL:peter@marvel.com;'\n",
    "    \"\"\"\n",
    "    return f'MECARD:N:{name};TEL:{tel};EMAIL:{email};'\n",
    "\n",
    "def gen_qrcode(text, logo_file=None, logo_pos='c'):\n",
    "    qr = qrcode.QRCode(\n",
    "        error_correction=qrcode.constants.ERROR_CORRECT_M,\n",
    "        border=1 # 10px\n",
    "    )\n",
    "    qr.add_data(text)\n",
    "    qr.make(fit=True)\n",
    "    qr_img = qr.make_image(fill_color=\"black\", back_color=\"white\")\n",
    "    if logo_file is None:\n",
    "        return qr_img\n",
    "    else:\n",
    "        logo_img = Image.open(logo_file).convert('RGBA')\n",
    "        qr_logo_img = qr_img.copy().convert('RGBA')\n",
    "        \n",
    "        if logo_pos.lower() == 'c':  # center logo\n",
    "            posx = (qr_img.size[0] - logo_img.size[0]) // 2\n",
    "            posy = (qr_img.size[1] - logo_img.size[1]) // 2\n",
    "        else:  # place logo on bottom right (margin 10px)\n",
    "            margin=10\n",
    "            posx = qr_img.size[0] - logo_img.size[0] - margin\n",
    "            posy = qr_img.size[1] - logo_img.size[1] - margin\n",
    "\n",
    "        qr_logo_img.paste(im=logo_img, box=(posx, posy), mask=logo_img)\n",
    "        return qr_logo_img\n",
    "\n",
    "def create_name_plate(pptx_output_name:str='directory.pptx', \n",
    "                      include_mecard_qr:bool=False, \n",
    "                      qr_logo:str='logo64x64.png'):\n",
    "    \"\"\"\n",
    "    Summary: automate name plate creation in PowerPoint\n",
    "    Usage:\n",
    "    1. default: python nameplate.py\n",
    "    2. specify pptx output file: python nameplate.py d1.pptx\n",
    "    3. include mecard qr code: python nameplate.py d1.pptx y\n",
    "    4. include mecard qr code with logo: python nameplate.py d1.pptx y logo64x64.png\n",
    "    Args:\n",
    "        pptx_output_name (str, optional): [description]. Defaults to 'directory.pptx'.\n",
    "        include_mecard_qr (bool, optional): [description]. Defaults to False.\n",
    "        qr_logo (str, optional): [description]. Defaults to 'logo64x64.png'.\n",
    "    \"\"\"\n",
    "    df=pd.read_excel('directory.xlsx', engine='openpyxl')\n",
    "    \n",
    "    tmp_img_file_name='tmp_qrcode_img.png'\n",
    "    prs = Presentation()\n",
    "    blank_slide_layout = prs.slide_layouts.get_by_name('Blank')\n",
    "    for i, r in df[df['selected']].iterrows():\n",
    "        slide = prs.slides.add_slide(blank_slide_layout)\n",
    "\n",
    "        txBox = slide.shapes.add_textbox(left=Inches(1), top=Inches(3), \n",
    "                                         width=Inches(6), height=Inches(2))\n",
    "        tf = txBox.text_frame\n",
    "#         tf.word_wrap = False\n",
    "#         tf.auto_size = MSO_AUTO_SIZE.SHAPE_TO_FIT_TEXT\n",
    "        p = tf.add_paragraph()\n",
    "        p.font.bold=True\n",
    "        p.font.size=Pt(80)\n",
    "        p.font.color.rgb = RGBColor(128, 128, 128)\n",
    "#         p.font.name='Browallia New'\n",
    "        p.text = f\"{r['fname']} {r['lname']}\"\n",
    "\n",
    "        if include_mecard_qr:\n",
    "            qr_text=mecard(r['fname'] + ' ' + r['lname'], r['tel'], r['email'])\n",
    "            img=gen_qrcode(qr_text, qr_logo, 'br')\n",
    "            img.save(tmp_img_file_name)\n",
    "            qr_left = Inches(7.5) \n",
    "            qr_top = Inches(3)\n",
    "            qr_height=Inches(1.5)\n",
    "            pic = slide.shapes.add_picture(tmp_img_file_name, \n",
    "                                           qr_left, qr_top, \n",
    "                                           height=qr_height)\n",
    "    if include_mecard_qr:\n",
    "        os.remove(tmp_img_file_name)\n",
    "    prs.save(pptx_output_name)\n",
    "    full_file_path=os.path.abspath(pptx_output_name)\n",
    "    print(f'successfully saved file {full_file_path}')"
   ]
  },
  {
   "cell_type": "code",
   "execution_count": 5,
   "metadata": {},
   "outputs": [
    {
     "name": "stdout",
     "output_type": "stream",
     "text": [
      "successfully saved file /Users/prasert/OneDrive - Chulalongkorn University/PycharmProjects/notebook/automate_pptx_nameplate/demo_nameplate.pptx\n"
     ]
    }
   ],
   "source": [
    "create_name_plate('demo_nameplate.pptx', True)"
   ]
  },
  {
   "cell_type": "code",
   "execution_count": 5,
   "metadata": {},
   "outputs": [
    {
     "name": "stdout",
     "output_type": "stream",
     "text": [
      "\n",
      "    usage:\n",
      "    1. default: python nameplate.py\n",
      "    2. specify pptx output file: python nameplate.py d1.pptx\n",
      "    3. include mecard qr code: python nameplate.py d1.pptx y\n",
      "    4. include mecard qr code with logo: python nameplate.py d1.pptx y logo64x64.png\n",
      "    \n",
      "successfully saved file /Users/prasert/OneDrive - Chulalongkorn University/PycharmProjects/notebook/powerpoint_api/-f\n"
     ]
    }
   ],
   "source": [
    "# command line style\n",
    "if __name__ == '__main__':\n",
    "    print('''\n",
    "    usage:\n",
    "    1. default: python nameplate.py\n",
    "    2. specify pptx output file: python nameplate.py d1.pptx\n",
    "    3. include mecard qr code: python nameplate.py d1.pptx y\n",
    "    4. include mecard qr code with logo: python nameplate.py d1.pptx y logo64x64.png\n",
    "    ''')\n",
    "    if len(sys.argv)==1:\n",
    "        create_name_plate()\n",
    "    elif len(sys.argv)==2:\n",
    "        create_name_plate(sys.argv[1])\n",
    "    elif len(sys.argv)==3:\n",
    "        create_name_plate(sys.argv[1], True if sys.argv[2].lower()=='y' else False)\n",
    "    elif len(sys.argv)==4:\n",
    "        create_name_plate(sys.argv[1], True if sys.argv[2].lower()=='y' else False, sys.argv[3])"
   ]
  },
  {
   "cell_type": "code",
   "execution_count": null,
   "metadata": {},
   "outputs": [],
   "source": []
  }
 ],
 "metadata": {
  "kernelspec": {
   "display_name": "Python 3",
   "language": "python",
   "name": "python3"
  },
  "language_info": {
   "codemirror_mode": {
    "name": "ipython",
    "version": 3
   },
   "file_extension": ".py",
   "mimetype": "text/x-python",
   "name": "python",
   "nbconvert_exporter": "python",
   "pygments_lexer": "ipython3",
   "version": "3.7.7"
  },
  "widgets": {
   "application/vnd.jupyter.widget-state+json": {
    "state": {},
    "version_major": 2,
    "version_minor": 0
   }
  }
 },
 "nbformat": 4,
 "nbformat_minor": 4
}